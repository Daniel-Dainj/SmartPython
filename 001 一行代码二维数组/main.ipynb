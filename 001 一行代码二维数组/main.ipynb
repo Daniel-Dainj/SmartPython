{
 "cells": [
  {
   "cell_type": "code",
   "execution_count": 1,
   "metadata": {},
   "outputs": [],
   "source": [
    "# 生成10行6列的二维数组\n",
    "arr = [[0] * 6 for _ in range(10)]"
   ]
  },
  {
   "cell_type": "markdown",
   "metadata": {},
   "source": [
    "注意点：最内层可以用乘号，但是外层就要用 `xxx for _ in range(???)` 来复制了\n",
    "因为  乘法展开 是用的同一块内存地址\n",
    "之所以最内层是可以用乘法的，因为python里的小整数都是共用的同一个内存，所有的`arr[0]` `arr[1]` `arr[2]` `arr[3]` …… 都是同一个内存地址"
   ]
  },
  {
   "cell_type": "code",
   "execution_count": 2,
   "metadata": {},
   "outputs": [
    {
     "data": {
      "text/plain": [
       "[[0, 0, 0, 0, 0, 0],\n",
       " [0, 0, 0, 0, 0, 0],\n",
       " [0, 0, 0, 0, 0, 0],\n",
       " [0, 0, 0, 0, 0, 0],\n",
       " [0, 0, 0, 0, 0, 0],\n",
       " [0, 0, 0, 0, 0, 0],\n",
       " [0, 0, 0, 0, 0, 0],\n",
       " [0, 0, 0, 0, 0, 0],\n",
       " [0, 0, 0, 0, 0, 0],\n",
       " [0, 0, 0, 0, 0, 0]]"
      ]
     },
     "execution_count": 2,
     "metadata": {},
     "output_type": "execute_result"
    }
   ],
   "source": [
    "arr"
   ]
  },
  {
   "cell_type": "code",
   "execution_count": 3,
   "metadata": {},
   "outputs": [
    {
     "name": "stdout",
     "output_type": "stream",
     "text": [
      "2530214936816 2530214936816 2530214936816\n"
     ]
    }
   ],
   "source": [
    "a = 1\n",
    "b = 1\n",
    "c = 1\n",
    "print(id(a), id(b), id(c))\n"
   ]
  },
  {
   "cell_type": "code",
   "execution_count": 5,
   "metadata": {},
   "outputs": [
    {
     "name": "stdout",
     "output_type": "stream",
     "text": [
      "True\n"
     ]
    }
   ],
   "source": [
    "print(a is b is c)"
   ]
  },
  {
   "cell_type": "markdown",
   "metadata": {},
   "source": [
    "\n",
    "在Python中，小整数的缓存范围通常是在-5到256之间。这些整数值都在Python的小整数缓存范围内。在这个范围内，相同的整数会被重用，所以它们在内存中的标识是相同的。"
   ]
  },
  {
   "cell_type": "code",
   "execution_count": 7,
   "metadata": {},
   "outputs": [
    {
     "name": "stdout",
     "output_type": "stream",
     "text": [
      "-3 True\n",
      "-2 True\n",
      "-1 True\n",
      "0 True\n",
      "1 True\n",
      "2 True\n"
     ]
    }
   ],
   "source": [
    "for i in range(-3, 3):\n",
    "    s = f\"n1 = {i}\\n\"\n",
    "    s += f\"n2 = {i}\\n\"\n",
    "    s += \"print(i, n1 is n2)\"\n",
    "    exec(s)\n"
   ]
  },
  {
   "cell_type": "code",
   "execution_count": 8,
   "metadata": {},
   "outputs": [
    {
     "name": "stdout",
     "output_type": "stream",
     "text": [
      "-6 True\n",
      "-5 True\n",
      "256 True\n",
      "257 True\n"
     ]
    }
   ],
   "source": [
    "for i in [-6, -5, 256, 257]:\n",
    "    s = f\"n1 = {i}\\n\"\n",
    "    s += f\"n2 = {i}\\n\"\n",
    "    s += \"print(i, n1 is n2)\"\n",
    "    exec(s)"
   ]
  },
  {
   "cell_type": "markdown",
   "metadata": {},
   "source": [
    "在交互式解释器或使用`exec`时，解释器可能对一些整数进行缓存，即使它们超出了通常的缓存范围。这可能是因为解释器在执行时对一些常用的整数进行了特殊处理，以提高性能。"
   ]
  }
 ],
 "metadata": {
  "kernelspec": {
   "display_name": "python310",
   "language": "python",
   "name": "python3"
  },
  "language_info": {
   "codemirror_mode": {
    "name": "ipython",
    "version": 3
   },
   "file_extension": ".py",
   "mimetype": "text/x-python",
   "name": "python",
   "nbconvert_exporter": "python",
   "pygments_lexer": "ipython3",
   "version": "3.10.13"
  }
 },
 "nbformat": 4,
 "nbformat_minor": 2
}
