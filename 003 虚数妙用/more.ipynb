{
 "cells": [
  {
   "cell_type": "markdown",
   "metadata": {},
   "source": [
    "PyCharm 复数\n",
    "\n",
    "2022年10月19日 by littlefean \n",
    "\n",
    "2023.12.10 updated by YuxiaoHua"
   ]
  },
  {
   "cell_type": "code",
   "execution_count": 6,
   "metadata": {},
   "outputs": [],
   "source": [
    "# -*- encoding: utf-8 -*-\n",
    "from typing import *\n",
    "import cmath"
   ]
  },
  {
   "cell_type": "code",
   "execution_count": 7,
   "metadata": {},
   "outputs": [
    {
     "name": "stdout",
     "output_type": "stream",
     "text": [
      "z1 =  (1+0j)\n",
      "z2 =  1j\n"
     ]
    }
   ],
   "source": [
    "a1 = 1; b1 = 0\n",
    "# 用实部 a1 和虚部 b1 创建复数 z1\n",
    "z1 = complex(a1, b1)  \n",
    "print('z1 = ', z1)\n",
    "\n",
    "a2 = 0; b2 = 1\n",
    "# 用实部 a2 和虚部 b2 创建复数 z2\n",
    "z2 = complex(a2, b2)  \n",
    "print('z2 = ', z2)"
   ]
  },
  {
   "cell_type": "code",
   "execution_count": 11,
   "metadata": {},
   "outputs": [
    {
     "name": "stdout",
     "output_type": "stream",
     "text": [
      "phase2 =  1.5707963267948966\n"
     ]
    }
   ],
   "source": [
    "# 传入一个虚数，返回这个虚数的弧度\n",
    "phase2 = cmath.phase(z2)\n",
    "print('phase2 = ', phase2)"
   ]
  },
  {
   "cell_type": "code",
   "execution_count": 9,
   "metadata": {},
   "outputs": [
    {
     "name": "stdout",
     "output_type": "stream",
     "text": [
      "angle =  1.5707963267948966\n"
     ]
    }
   ],
   "source": [
    "# 快速计算两个向量之间的夹角（弧度制）\n",
    "angle = cmath.phase(z2) - cmath.phase(z1)\n",
    "print('angle = ', angle)"
   ]
  },
  {
   "cell_type": "code",
   "execution_count": 12,
   "metadata": {},
   "outputs": [
    {
     "name": "stdout",
     "output_type": "stream",
     "text": [
      "(1.4142135623730951, 0.7853981633974483)\n"
     ]
    }
   ],
   "source": [
    "# 长度 ， 角度\n",
    "z3 = z1 + z2\n",
    "print(cmath.polar(z3))  "
   ]
  }
 ],
 "metadata": {
  "kernelspec": {
   "display_name": "Python 3",
   "language": "python",
   "name": "python3"
  },
  "language_info": {
   "codemirror_mode": {
    "name": "ipython",
    "version": 3
   },
   "file_extension": ".py",
   "mimetype": "text/x-python",
   "name": "python",
   "nbconvert_exporter": "python",
   "pygments_lexer": "ipython3",
   "version": "3.9.6"
  }
 },
 "nbformat": 4,
 "nbformat_minor": 2
}
