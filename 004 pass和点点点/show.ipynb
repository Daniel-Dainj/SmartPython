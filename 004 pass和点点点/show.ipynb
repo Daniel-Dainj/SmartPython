{
 "cells": [
  {
   "cell_type": "markdown",
   "metadata": {},
   "source": [
    "PyCharm show\n",
    "\n",
    "2022年06月17日 by littlefean\n",
    "\n",
    "2023.12.10 updated by YuxiaoHua"
   ]
  },
  {
   "cell_type": "code",
   "execution_count": 14,
   "metadata": {},
   "outputs": [],
   "source": [
    "# -*- encoding: utf-8 -*-\n",
    "from typing import *"
   ]
  },
  {
   "cell_type": "code",
   "execution_count": 15,
   "metadata": {},
   "outputs": [],
   "source": [
    "# ... 可以写在注解里面\n",
    "def test(a: ..., b: ...) -> ...:\n",
    "    ...\n",
    "\n",
    "# 有一个类我还不知道怎么写，我可以先写个占位符\n",
    "class A:\n",
    "    ...\n",
    "\n",
    "class B:\n",
    "    pass\n",
    "\n",
    "def f():\n",
    "    ...\n",
    "\n",
    "def g():\n",
    "    pass"
   ]
  },
  {
   "cell_type": "code",
   "execution_count": 16,
   "metadata": {},
   "outputs": [],
   "source": [
    "# 写个空循环\n",
    "for _ in range(100):\n",
    "    ..."
   ]
  },
  {
   "cell_type": "code",
   "execution_count": 17,
   "metadata": {},
   "outputs": [],
   "source": [
    "for _ in range(100):\n",
    "    pass\n",
    "\n",
    "# 经过测试发现 点点点和pass做空循环速度是一样的。"
   ]
  },
  {
   "cell_type": "code",
   "execution_count": 18,
   "metadata": {},
   "outputs": [],
   "source": [
    "for _ in range(1000):\n",
    "    ...\n",
    "    ...\n",
    "    ...\n",
    "    ...\n",
    "\n",
    "# 经过测试发现，这样写四个，并没有出现速度慢了四倍的情况"
   ]
  },
  {
   "cell_type": "markdown",
   "metadata": {},
   "source": [
    "在`Python`中，`Ellipsis` 是一个特殊的对象，用来表示省略。它的类型是 `ellipsis` 类型。"
   ]
  },
  {
   "cell_type": "code",
   "execution_count": 19,
   "metadata": {},
   "outputs": [
    {
     "name": "stdout",
     "output_type": "stream",
     "text": [
      "True\n"
     ]
    }
   ],
   "source": [
    "print(id(...) == id(Ellipsis))\n",
    "\n",
    "# 没有小写开头的东西了，因为是单例了，虽然pycharm里这个单词还会变蓝\n",
    "# print(id(...) == id(ellipsis))  "
   ]
  },
  {
   "cell_type": "code",
   "execution_count": 20,
   "metadata": {},
   "outputs": [
    {
     "name": "stdout",
     "output_type": "stream",
     "text": [
      "<class 'ellipsis'> <class 'ellipsis'>\n"
     ]
    }
   ],
   "source": [
    "print(type(...), type(Ellipsis))"
   ]
  },
  {
   "cell_type": "markdown",
   "metadata": {},
   "source": [
    "这里的 `Ellipsis.__class__` 返回 `ellipsis` 类型，它表示省略对象的类型。这部分不需要括号，因为我们只是获取类型。\n",
    "\n",
    "而 `Ellipsis.__class__()` 中的括号是用来创建 `ellipsis` 类型的实例的。"
   ]
  },
  {
   "cell_type": "code",
   "execution_count": 21,
   "metadata": {},
   "outputs": [
    {
     "name": "stdout",
     "output_type": "stream",
     "text": [
      "<class 'ellipsis'> Ellipsis\n"
     ]
    }
   ],
   "source": [
    "print(Ellipsis.__class__, Ellipsis.__class__())"
   ]
  },
  {
   "cell_type": "markdown",
   "metadata": {},
   "source": [
    "但是，`ellipsis` 类型是一个特殊的单例对象，不允许通过构造函数创建多个实例。因此，即使你加上括号，它仍然会返回 `Ellipsis` 单例对象。"
   ]
  },
  {
   "cell_type": "code",
   "execution_count": 22,
   "metadata": {},
   "outputs": [
    {
     "ename": "TypeError",
     "evalue": "'ellipsis' object is not callable",
     "output_type": "error",
     "traceback": [
      "\u001b[0;31m---------------------------------------------------------------------------\u001b[0m",
      "\u001b[0;31mTypeError\u001b[0m                                 Traceback (most recent call last)",
      "Cell \u001b[0;32mIn[22], line 1\u001b[0m\n\u001b[0;32m----> 1\u001b[0m a \u001b[38;5;241m=\u001b[39m \u001b[38;5;28;43mEllipsis\u001b[39;49m\u001b[43m(\u001b[49m\u001b[43m)\u001b[49m\n\u001b[1;32m      2\u001b[0m b \u001b[38;5;241m=\u001b[39m \u001b[38;5;28mEllipsis\u001b[39m()\n",
      "\u001b[0;31mTypeError\u001b[0m: 'ellipsis' object is not callable"
     ]
    }
   ],
   "source": [
    "a = Ellipsis()\n",
    "b = Ellipsis()"
   ]
  },
  {
   "cell_type": "code",
   "execution_count": 23,
   "metadata": {},
   "outputs": [
    {
     "name": "stdout",
     "output_type": "stream",
     "text": [
      "ellipsis\n",
      "(<class 'object'>,)\n",
      "<class 'type'>\n"
     ]
    }
   ],
   "source": [
    "print(Ellipsis.__class__.__name__)\n",
    "print(Ellipsis.__class__.__bases__)\n",
    "print(Ellipsis.__class__.__class__)"
   ]
  }
 ],
 "metadata": {
  "kernelspec": {
   "display_name": "Python 3",
   "language": "python",
   "name": "python3"
  },
  "language_info": {
   "codemirror_mode": {
    "name": "ipython",
    "version": 3
   },
   "file_extension": ".py",
   "mimetype": "text/x-python",
   "name": "python",
   "nbconvert_exporter": "python",
   "pygments_lexer": "ipython3",
   "version": "3.9.6"
  }
 },
 "nbformat": 4,
 "nbformat_minor": 2
}
